{
 "cells": [
  {
   "cell_type": "markdown",
   "metadata": {},
   "source": [
    "#### Given details related to travel modes and destination are put in Data structures"
   ]
  },
  {
   "cell_type": "code",
   "execution_count": 12,
   "metadata": {},
   "outputs": [],
   "source": [
    "## Task1\n",
    "\n",
    "travel_mode = {\"Flight\" : 10,\"Train\" : 5,\"Bus\" : 20}\n",
    "destination_city = {\"Mumbai\" :1300,\"Bangalore\" :300,\"Hyderabad\" :600}  "
   ]
  },
  {
   "cell_type": "markdown",
   "metadata": {},
   "source": [
    "#### Name, Mobile Number of the person who is booking and Number of travellers are validated here"
   ]
  },
  {
   "cell_type": "code",
   "execution_count": 13,
   "metadata": {},
   "outputs": [
    {
     "name": "stdout",
     "output_type": "stream",
     "text": [
      "Please Enter your Name: Ameya23\n",
      "Invalid name, please enter again.\n",
      "Please Enter your Name: Ameya\n",
      "Name entered successfully.\n",
      "Please enter your Mobile Number: 1234\n",
      "Invalid Mobile Number, please enter again.\n",
      "Please enter your Mobile Number: 1234567890\n",
      "Mobile Number entered successfully.\n",
      "Please enter the number of travellers: 2\n",
      "Welcome to the trip. Please enter Traveller details...\n"
     ]
    }
   ],
   "source": [
    "## Task2\n",
    "\n",
    "## name validation of person booking\n",
    "\n",
    "while True:   \n",
    "    full_name = input(\"Please Enter your Name: \")\n",
    "    split_name = full_name.split()\n",
    "    count = 0\n",
    "    for i in split_name:\n",
    "        if i.isalpha():\n",
    "            count+=1\n",
    "    if len(split_name) == count:\n",
    "        print('Name entered successfully.')\n",
    "        break\n",
    "    else:\n",
    "        print('Invalid name, please enter again.')\n",
    "\n",
    "## mobile number validation of person booking\n",
    "\n",
    "while True:\n",
    "    mobile_no = input(\"Please enter your Mobile Number: \")\n",
    "    if mobile_no.isdigit() and len(mobile_no)==10:\n",
    "        print('Mobile Number entered successfully.')\n",
    "        break\n",
    "    else:\n",
    "        print('Invalid Mobile Number, please enter again.')\n",
    "        \n",
    "## validating the limit of travellers\n",
    "\n",
    "while True:\n",
    "    no_of_travellers = input(\"Please enter the number of travellers: \")\n",
    "    if no_of_travellers.isdigit() and int(no_of_travellers)>=2:\n",
    "        print('Welcome to the trip. Please enter Traveller details...')\n",
    "        break\n",
    "    else:\n",
    "        print('This does not meet the minimum passenger requirement, please enter again.')"
   ]
  },
  {
   "cell_type": "markdown",
   "metadata": {},
   "source": [
    "#### Here Different traveller information like name, age and mobile number are validated and added as a whole in a dictionary."
   ]
  },
  {
   "cell_type": "code",
   "execution_count": 14,
   "metadata": {},
   "outputs": [
    {
     "name": "stdout",
     "output_type": "stream",
     "text": [
      "Please Enter Traveller 1 Name: Ameya\n",
      "Name entered successfully.\n",
      "Please enter the age: 25\n",
      "Age is entered. User is an Adult.\n",
      "Please enter your Mobile Number: 1234567890\n",
      "Mobile Number entered successfully.\n",
      "Please Enter Traveller 2 Name: Roger\n",
      "Name entered successfully.\n",
      "Please enter the age: 2\n",
      "Age is entered. User is a Child.\n",
      "Please enter your Mobile Number: 2134567890\n",
      "Mobile Number entered successfully.\n"
     ]
    }
   ],
   "source": [
    "group_details = {}\n",
    "name_list = []\n",
    "age_list = []\n",
    "mobile_no_list = []\n",
    "\n",
    "for people in range(int(no_of_travellers)):\n",
    "    while True:   \n",
    "        name = input(\"Please Enter Traveller \" + str(people+1) + \" Name: \")\n",
    "        split_name = name.split()\n",
    "        count = 0\n",
    "        for i in split_name:\n",
    "            if i.isalpha():\n",
    "                count+=1\n",
    "        if len(split_name) == count:\n",
    "            print('Name entered successfully.')\n",
    "            name_list.append(name)\n",
    "            group_details.update({\"person_\" + str(people+1) : {'Name' : name}})\n",
    "            break\n",
    "        else:\n",
    "            print('Invalid name, please enter again.')\n",
    "\n",
    "    key = list(group_details.keys())\n",
    "\n",
    "    \n",
    "    ## if age is less than 6 than user is considered as a child\n",
    "    \n",
    "    while True:\n",
    "        age = input(\"Please enter the age: \")\n",
    "        if age.isdigit() and int(age) < 6:\n",
    "            print('Age is entered. User is a Child.')\n",
    "            age_list.append(age)\n",
    "            group_details[key[people]]['Age'] = age\n",
    "            group_details[key[people]]['Age_demography'] = 'Child'\n",
    "            break\n",
    "        elif age.isdigit() and int(age) >= 6:\n",
    "            print('Age is entered. User is an Adult.')\n",
    "            age_list.append(age)\n",
    "            group_details[key[people]]['Age'] = age\n",
    "            group_details[key[people]]['Age_demography'] = 'Adult'\n",
    "            break\n",
    "        else:\n",
    "            print('Invalid age, please enter again.')\n",
    "            \n",
    "    while True:\n",
    "        mobile = input(\"Please enter your Mobile Number: \")\n",
    "        if mobile.isdigit() and len(mobile)==10:\n",
    "            print('Mobile Number entered successfully.')\n",
    "            mobile_no_list.append(mobile)\n",
    "            group_details[key[people]]['Mobile'] = mobile\n",
    "            break\n",
    "        else:\n",
    "            print('Invalid Mobile Number, please enter again.')"
   ]
  },
  {
   "cell_type": "markdown",
   "metadata": {},
   "source": [
    "#### Travel Date is recorded to be later added into the payment receipt"
   ]
  },
  {
   "cell_type": "code",
   "execution_count": 15,
   "metadata": {},
   "outputs": [
    {
     "name": "stdout",
     "output_type": "stream",
     "text": [
      "Please Enter Travel date in DD/MM/YYYY:  21/12/2021\n",
      "Date is entered successfully.\n"
     ]
    }
   ],
   "source": [
    "while True:\n",
    "    travel_date= input(\"Please Enter Travel date in DD/MM/YYYY:  \")\n",
    "    split_date = travel_date.split('/')\n",
    "    date_val = False\n",
    "    if len(split_date) == 3:\n",
    "        if split_date[0].isdigit() and len(split_date[0])==2 and int(split_date[0])<=30 and split_date[1].isdigit() and len(split_date[1])==2 and int(split_date[1])<=12 and split_date[2].isdigit() and len(split_date[2])==4:\n",
    "            date_val = True\n",
    "            \n",
    "    if date_val:\n",
    "        print(\"Date is entered successfully.\")\n",
    "        break\n",
    "    else:\n",
    "        print(\"Invalid date, please enter again in DD/MM/YYYY\")"
   ]
  },
  {
   "cell_type": "markdown",
   "metadata": {},
   "source": [
    "#### User selects appropriate Transport mode, destination and the type of trip"
   ]
  },
  {
   "cell_type": "code",
   "execution_count": 16,
   "metadata": {},
   "outputs": [
    {
     "name": "stdout",
     "output_type": "stream",
     "text": [
      "Please select travel mode from 'Flight', 'Train', 'Bus': Bus\n",
      "Travel mode selected successfully.\n",
      "Please select your destination from 'Mumbai', 'Bangalore', 'Hyderabad': Mumbai\n",
      "Destination selected successfully.\n",
      "Please specify whether the trip is 'Oneway' or 'Round': round\n",
      "Invalid type of trip, please enter again.\n",
      "Please specify whether the trip is 'Oneway' or 'Round': Round\n",
      "Type of trip selected successfully.\n"
     ]
    }
   ],
   "source": [
    "## Task3\n",
    "\n",
    "while True:   \n",
    "        mode_input = input(\"Please select travel mode from 'Flight', 'Train', 'Bus': \")\n",
    "        if mode_input in ['Flight','Train','Bus']:\n",
    "            print('Travel mode selected successfully.')\n",
    "            break\n",
    "        else:\n",
    "            print('Invalid mode, please enter again.')\n",
    "\n",
    "while True:   \n",
    "        destination_input = input(\"Please select your destination from 'Mumbai', 'Bangalore', 'Hyderabad': \")\n",
    "        if destination_input in ['Mumbai','Bangalore','Hyderabad']:\n",
    "            print('Destination selected successfully.')\n",
    "            break\n",
    "        else:\n",
    "            print('Invalid destination, please enter again.')\n",
    "\n",
    "while True:   \n",
    "        type_of_trip = input(\"Please specify whether the trip is 'Oneway' or 'Round': \")\n",
    "        if type_of_trip in ['Oneway','Round']:\n",
    "            print('Type of trip selected successfully.')\n",
    "            break\n",
    "        else:\n",
    "            print('Invalid type of trip, please enter again.')\n"
   ]
  },
  {
   "cell_type": "markdown",
   "metadata": {},
   "source": [
    "#### Here Total cost of travel for the group as per their above choices selected along with the final cost with 18% GST added is calculated"
   ]
  },
  {
   "cell_type": "code",
   "execution_count": 17,
   "metadata": {},
   "outputs": [],
   "source": [
    "total_cost = 0\n",
    "final_cost_gst = 0\n",
    "\n",
    "for mode in travel_mode:\n",
    "    for destination in destination_city:\n",
    "        if mode == mode_input and destination == destination_input:\n",
    "            for person in group_details:\n",
    "                cost = 0\n",
    "                if type_of_trip == 'Oneway':\n",
    "                    if group_details[person]['Age_demography'] == 'Child':\n",
    "                        cost = (travel_mode[mode] * destination_city[destination])/2\n",
    "                    else:\n",
    "                        cost = travel_mode[mode] * destination_city[destination]\n",
    "                elif type_of_trip == 'Round':\n",
    "                    if group_details[person]['Age_demography'] == 'Child':\n",
    "                        cost = ((travel_mode[mode] * destination_city[destination]) * 2)/2\n",
    "                    else:\n",
    "                        cost = (travel_mode[mode] * destination_city[destination]) * 2\n",
    "                total_cost += cost\n",
    "\n",
    "final_cost_gst = total_cost + (0.18 * total_cost)"
   ]
  },
  {
   "cell_type": "markdown",
   "metadata": {},
   "source": [
    "#### Here user decides whether he is approving the travel and is ready to pay amount or not and if ready an appropriate Payment receipt is generated"
   ]
  },
  {
   "cell_type": "code",
   "execution_count": 19,
   "metadata": {},
   "outputs": [
    {
     "name": "stdout",
     "output_type": "stream",
     "text": [
      "Do you want to pay the amount and confirm your trip(Y/N) : Y\n",
      "Available payment methods are: 1 Card 2 UPI 3 Cash \n",
      "Please select one of the payment method using corresponding number:  3\n",
      "Total amount of Rupees 92040.0 paid using Cash\n",
      "\n",
      "------------------------------------------------------------------------\n",
      "******************* Please find you Payment Receipt ********************\n",
      "------------------------------------------------------------------------\n",
      "\n",
      "Trip is booked by\t\t: Ameya\n",
      "Mobile Number of Ameya \t\t: 1234567890\n",
      "Date of travel \t\t\t: 21/12/2021\n",
      "Source\t\t\t\t: Chennai\n",
      "Destination\t\t\t: Mumbai\n",
      "Mode of Transport\t\t: Bus\n",
      "Number of people travelling\t: 2\n",
      "\n",
      "Traveller Details\n",
      "\n",
      "Traveller 1\t\t\t: Name - Ameya, Mobile - 1234567890\n",
      "Traveller 2\t\t\t: Name - Roger, Mobile - 2134567890\n",
      "\n",
      "Total Amount\t\t\t: 78000.0\n",
      "Final Amount including 18% GST\t: 92040.0\n",
      "Trip\t\t\t\t: Round trip\n",
      "Payment Method\t\t\t: Cash\n",
      "\n",
      "\n",
      "----------------- Thank you for travelling with us!!! -------------------\n",
      "\n",
      "\t\t     Wish you a happy journey....\n"
     ]
    }
   ],
   "source": [
    "## Task4\n",
    "\n",
    "while True:\n",
    "    confirmation = input(\"Do you want to pay the amount and confirm your trip(Y/N) : \")\n",
    "    if confirmation == \"Y\":\n",
    "        print(\"Available payment methods are: 1 Card 2 UPI 3 Cash \")\n",
    "        while True:\n",
    "            payment_methods = input(\"Please select one of the payment method using corresponding number:  \")\n",
    "            if int(payment_methods) == 1:\n",
    "                payment = 'Card'\n",
    "                break\n",
    "            elif int(payment_methods) == 2:\n",
    "                payment = 'UPI'\n",
    "                break\n",
    "            elif int(payment_methods) == 3:\n",
    "                payment = 'Cash'\n",
    "                break\n",
    "            else:\n",
    "                print(\"Please select appropriate number associated with payment method\")\n",
    "        print(\"Total amount of Rupees \" + str(final_cost_gst) + \" paid using \" + payment)\n",
    "        print(\"\\n------------------------------------------------------------------------\")\n",
    "        print(\"******************* Please find you Payment Receipt ********************\")\n",
    "        print(\"------------------------------------------------------------------------\\n\")\n",
    "        print(\"Trip is booked by\\t\\t: \" + full_name)\n",
    "        print(\"Mobile Number of \" + full_name + \" \\t\\t: \" + str(mobile_no))\n",
    "        print(\"Date of travel \\t\\t\\t: \" + str(travel_date))\n",
    "        print(\"Source\\t\\t\\t\\t: Chennai\")\n",
    "        print(\"Destination\\t\\t\\t: \" + destination_input)\n",
    "        print(\"Mode of Transport\\t\\t: \" + mode_input)\n",
    "        print(\"Number of people travelling\\t: \" + str(no_of_travellers) + \"\\n\\nTraveller Details\\n\")\n",
    "        for i in range(int(no_of_travellers)):\n",
    "            print(\"Traveller \" + str(i+1) + \"\\t\\t\\t: Name - \" + name_list[i] + \", Mobile - \" + str(mobile_no_list[i]))\n",
    "        print(\"\\nTotal Amount\\t\\t\\t: \" + str(total_cost))\n",
    "        print(\"Final Amount including 18% GST\\t: \" + str(final_cost_gst))\n",
    "        print(\"Trip\\t\\t\\t\\t: \" + type_of_trip + \" trip\")\n",
    "        print(\"Payment Method\\t\\t\\t: \" + payment)\n",
    "        print(\"\\n\\n----------------- Thank you for travelling with us!!! -------------------\")\n",
    "        print(\"\\n\\t\\t     Wish you a happy journey....\")\n",
    "        break\n",
    "    elif confirmation ==\"N\":\n",
    "        print(\"Please don't leave us....\")\n",
    "    else:\n",
    "        print(\"Please choose Y/N...\")"
   ]
  }
 ],
 "metadata": {
  "kernelspec": {
   "display_name": "Python 3",
   "language": "python",
   "name": "python3"
  },
  "language_info": {
   "codemirror_mode": {
    "name": "ipython",
    "version": 3
   },
   "file_extension": ".py",
   "mimetype": "text/x-python",
   "name": "python",
   "nbconvert_exporter": "python",
   "pygments_lexer": "ipython3",
   "version": "3.8.5"
  }
 },
 "nbformat": 4,
 "nbformat_minor": 4
}
